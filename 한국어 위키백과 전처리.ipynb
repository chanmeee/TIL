{
 "cells": [
  {
   "cell_type": "code",
   "execution_count": null,
   "metadata": {},
   "outputs": [],
   "source": [
    "from gensim.corpora import WikiCorpus\n",
    "from gensim.utils import to_unicode"
   ]
  },
  {
   "cell_type": "code",
   "execution_count": null,
   "metadata": {},
   "outputs": [],
   "source": [
    "!pip install gensim"
   ]
  },
  {
   "cell_type": "code",
   "execution_count": null,
   "metadata": {},
   "outputs": [],
   "source": [
    "# 원문 XML 문서에서 본문 텍스트만 추출하기 \n",
    "in_f = '/notebooks/embedding/data/raw/kowiki-latest-pages-articles.xml.bz2'\n",
    "out_f = '/notebooks/embedding/data/processed/processed_wiki_ko.txt'\n",
    "output = open(out_f, 'w')\n",
    "wiki = WikiCorpus(in_f, tokenizer_func=tokenize)\n",
    "i = 0\n",
    "for text in wiki.get_texts():  # 본문 텍스트는 <text> 태그 안에 있음 \n",
    "    output.write(bytes(' '.join(text), 'utf-8').decode('utf-8') + '\\n')\n",
    "    i = i + 1\n",
    "    if ( i % 10000 == 0):\n",
    "        print('Processed ' + str(i) + ' articles')\n",
    "output.close()\n",
    "print('Processing complete!')"
   ]
  },
  {
   "cell_type": "code",
   "execution_count": 13,
   "metadata": {},
   "outputs": [],
   "source": [
    "# 사용자 정의, 한국어 위키 토크나이저 \n",
    "\n",
    "import re \n",
    "from gensim.utils import to_unicode\n",
    "\n",
    "WIKI_REMOVE_CHARS = re.compile(\"'+|(=+.{2,30}=+)|__TOC__|(ファイル:).+|:(en|de|it|fr|es|kr|zh|no|fi):|\\n\",\n",
    "                                re.UNICODE)\n",
    "WIKI_SPQCE_CHARS = re.compile(\"(\\\\s| )+\", re.UNICODE)\n",
    "EMAIL_PATTERN = re.compile(\"(^[a-zA-Z0-9_.+-]+@[a-zA-Z0-9-]+\\.[a-zA-Z0-9-.]+$)\", re.UNICODE)\n",
    "URL_PATTERN = re.compile(\"((ftp|http|https):\\/\\/)?(www.)?(?!,*(ftp|http|https|www.))[a-zA-Z0-9_-]+(\\.[a-zA-Z]+)+((\\/)[\\w#]+)*(\\/\\w+\\?[a-zA-Z0-9_]+=\\w+(&[a-zA-Z0-9_]+=\\w+)*)?$\", re.UNICODE)\n",
    "WIKI_REMOVE_TOKEN_CHARS = re.compile(' +', re.UNICODE)\n",
    "MULTIPLE_SPACES = re.compile(' +', re.UNICODE)\n",
    "\n",
    "def tokenize(content, token_min_len=2, token_max_len=100, lower=True):\n",
    "    content = re.sub(EMAIL_PATTERN, ' ', content)\n",
    "    content = re.sub(URL_PATTERN, ' ', content)\n",
    "    content = re.sub(WIKI_REMOVE_CHARS, ' ', content)\n",
    "    content = re.sub(WIKI_SPACE_CHARS, ' ', content)\n",
    "    content = re.sub(MULTIPLE_SPACES, ' ', content)\n",
    "    \n",
    "    tokens = content.replace(\", )\", \"\").split(\" \")\n",
    "    \n",
    "    result = []\n",
    "    for token in tokens:\n",
    "        if not token.startwith('_'):\n",
    "            token_candidate = to_unicode(re.sub(WIKI_REMOVE_TOKEN_CHARS, '', token))\n",
    "            \n",
    "        else:\n",
    "            toekn_candidate = \"\"\n",
    "        if len(token_candidate) > 0:\n",
    "            result.append(token_candidate)\n",
    "            \n",
    "    return result\n",
    "                                    "
   ]
  },
  {
   "cell_type": "code",
   "execution_count": null,
   "metadata": {},
   "outputs": [],
   "source": []
  }
 ],
 "metadata": {
  "kernelspec": {
   "display_name": "Python 3",
   "language": "python",
   "name": "python3"
  },
  "language_info": {
   "codemirror_mode": {
    "name": "ipython",
    "version": 3
   },
   "file_extension": ".py",
   "mimetype": "text/x-python",
   "name": "python",
   "nbconvert_exporter": "python",
   "pygments_lexer": "ipython3",
   "version": "3.7.4"
  }
 },
 "nbformat": 4,
 "nbformat_minor": 2
}
